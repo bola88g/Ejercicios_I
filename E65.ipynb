{
 "cells": [
  {
   "cell_type": "markdown",
   "metadata": {},
   "source": [
    "##### Escriba un programa de Python para convertir segundos a día, hora, minutos y segundos."
   ]
  },
  {
   "cell_type": "code",
   "execution_count": 3,
   "metadata": {},
   "outputs": [
    {
     "name": "stdin",
     "output_type": "stream",
     "text": [
      "Input time in seconds:  86401\n"
     ]
    },
    {
     "name": "stdout",
     "output_type": "stream",
     "text": [
      "d:h:m:s-> 1:0:0:1\n"
     ]
    }
   ],
   "source": [
    "def convierteSegEnTiempo(time):\n",
    "\tday=time//(24*3600)\n",
    "\ttime = time % (24 * 3600)\n",
    "\thour = time // 3600\n",
    "\ttime %= 3600\n",
    "\tminutes = time // 60\n",
    "\ttime %= 60\n",
    "\tseconds = time\n",
    "\tres=[day,hour,minutes,seconds]\n",
    "\treturn res\n",
    "\n",
    "time = float(input(\"Input time in seconds: \"))\n",
    "interv=convierteSegEnTiempo(time)\n",
    "print(\"d:h:m:s-> %d:%d:%d:%d\" % (interv[0], interv[1], interv[2], interv[3]))"
   ]
  },
  {
   "cell_type": "code",
   "execution_count": 2,
   "metadata": {},
   "outputs": [
    {
     "data": {
      "text/plain": [
       "86400"
      ]
     },
     "execution_count": 2,
     "metadata": {},
     "output_type": "execute_result"
    }
   ],
   "source": [
    "3600*24"
   ]
  },
  {
   "cell_type": "code",
   "execution_count": null,
   "metadata": {},
   "outputs": [],
   "source": []
  }
 ],
 "metadata": {
  "kernelspec": {
   "display_name": "Python 3",
   "language": "python",
   "name": "python3"
  },
  "language_info": {
   "codemirror_mode": {
    "name": "ipython",
    "version": 3
   },
   "file_extension": ".py",
   "mimetype": "text/x-python",
   "name": "python",
   "nbconvert_exporter": "python",
   "pygments_lexer": "ipython3",
   "version": "3.7.3"
  }
 },
 "nbformat": 4,
 "nbformat_minor": 4
}
